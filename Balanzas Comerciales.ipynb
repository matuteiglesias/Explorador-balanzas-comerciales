{
 "cells": [
  {
   "cell_type": "markdown",
   "metadata": {},
   "source": [
    "### Cargar modulos"
   ]
  },
  {
   "cell_type": "code",
   "execution_count": 1,
   "metadata": {
    "collapsed": true
   },
   "outputs": [],
   "source": [
    "import numpy as np\n",
    "import pandas as pd\n",
    "\n",
    "import sys    \n",
    "reload(sys)  \n",
    "sys.setdefaultencoding('utf8')\n",
    "\n",
    "import seaborn as sns"
   ]
  },
  {
   "cell_type": "markdown",
   "metadata": {},
   "source": [
    "## Cargar data"
   ]
  },
  {
   "cell_type": "code",
   "execution_count": 33,
   "metadata": {
    "collapsed": false
   },
   "outputs": [],
   "source": [
    "\n",
    "data = pd.read_csv('./../Country_data/Boschma2018FilteredDataset')\n",
    "\n",
    "## SITC Sections\n",
    "SITC4_full = pd.read_csv('./SITC4_full.csv')"
   ]
  },
  {
   "cell_type": "markdown",
   "metadata": {},
   "source": [
    "### Ejemplito: Balanza argentina 2010 por grandes sectores"
   ]
  },
  {
   "cell_type": "code",
   "execution_count": 3,
   "metadata": {
    "collapsed": false
   },
   "outputs": [
    {
     "data": {
      "text/html": [
       "<style  type=\"text/css\" >\n",
       "    #T_a52ff754_8c54_11e8_91f4_5ce0c5892623row0_col0 {\n",
       "            width:  10em;\n",
       "             height:  80%;\n",
       "            background:  linear-gradient(90deg,#d65f5f 100.0%, transparent 0%);\n",
       "        }    #T_a52ff754_8c54_11e8_91f4_5ce0c5892623row0_col1 {\n",
       "            width:  10em;\n",
       "             height:  80%;\n",
       "            background:  linear-gradient(90deg,#d65f5f 4.8%, transparent 0%);\n",
       "        }    #T_a52ff754_8c54_11e8_91f4_5ce0c5892623row1_col0 {\n",
       "            width:  10em;\n",
       "             height:  80%;\n",
       "            background:  linear-gradient(90deg,#d65f5f 6.6%, transparent 0%);\n",
       "        }    #T_a52ff754_8c54_11e8_91f4_5ce0c5892623row1_col1 {\n",
       "            width:  10em;\n",
       "             height:  80%;\n",
       "            background:  linear-gradient(90deg,#d65f5f 0.7%, transparent 0%);\n",
       "        }    #T_a52ff754_8c54_11e8_91f4_5ce0c5892623row2_col0 {\n",
       "            width:  10em;\n",
       "             height:  80%;\n",
       "            background:  linear-gradient(90deg,#d65f5f 40.2%, transparent 0%);\n",
       "        }    #T_a52ff754_8c54_11e8_91f4_5ce0c5892623row2_col1 {\n",
       "            width:  10em;\n",
       "             height:  80%;\n",
       "            background:  linear-gradient(90deg,#d65f5f 7.7%, transparent 0%);\n",
       "        }    #T_a52ff754_8c54_11e8_91f4_5ce0c5892623row3_col0 {\n",
       "            width:  10em;\n",
       "             height:  80%;\n",
       "            background:  linear-gradient(90deg,#d65f5f 15.8%, transparent 0%);\n",
       "        }    #T_a52ff754_8c54_11e8_91f4_5ce0c5892623row3_col1 {\n",
       "            width:  10em;\n",
       "             height:  80%;\n",
       "            background:  linear-gradient(90deg,#d65f5f 4.9%, transparent 0%);\n",
       "        }    #T_a52ff754_8c54_11e8_91f4_5ce0c5892623row4_col0 {\n",
       "            width:  10em;\n",
       "             height:  80%;\n",
       "        }    #T_a52ff754_8c54_11e8_91f4_5ce0c5892623row4_col1 {\n",
       "            width:  10em;\n",
       "             height:  80%;\n",
       "            background:  linear-gradient(90deg,#d65f5f 0.2%, transparent 0%);\n",
       "        }    #T_a52ff754_8c54_11e8_91f4_5ce0c5892623row5_col0 {\n",
       "            width:  10em;\n",
       "             height:  80%;\n",
       "            background:  linear-gradient(90deg,#d65f5f 24.4%, transparent 0%);\n",
       "        }    #T_a52ff754_8c54_11e8_91f4_5ce0c5892623row5_col1 {\n",
       "            width:  10em;\n",
       "             height:  80%;\n",
       "            background:  linear-gradient(90deg,#d65f5f 47.4%, transparent 0%);\n",
       "        }    #T_a52ff754_8c54_11e8_91f4_5ce0c5892623row6_col0 {\n",
       "            width:  10em;\n",
       "             height:  80%;\n",
       "            background:  linear-gradient(90deg,#d65f5f 24.8%, transparent 0%);\n",
       "        }    #T_a52ff754_8c54_11e8_91f4_5ce0c5892623row6_col1 {\n",
       "            width:  10em;\n",
       "             height:  80%;\n",
       "            background:  linear-gradient(90deg,#d65f5f 29.8%, transparent 0%);\n",
       "        }    #T_a52ff754_8c54_11e8_91f4_5ce0c5892623row7_col0 {\n",
       "            width:  10em;\n",
       "             height:  80%;\n",
       "            background:  linear-gradient(90deg,#d65f5f 33.7%, transparent 0%);\n",
       "        }    #T_a52ff754_8c54_11e8_91f4_5ce0c5892623row7_col1 {\n",
       "            width:  10em;\n",
       "             height:  80%;\n",
       "            background:  linear-gradient(90deg,#d65f5f 100.0%, transparent 0%);\n",
       "        }    #T_a52ff754_8c54_11e8_91f4_5ce0c5892623row8_col0 {\n",
       "            width:  10em;\n",
       "             height:  80%;\n",
       "            background:  linear-gradient(90deg,#d65f5f 3.8%, transparent 0%);\n",
       "        }    #T_a52ff754_8c54_11e8_91f4_5ce0c5892623row8_col1 {\n",
       "            width:  10em;\n",
       "             height:  80%;\n",
       "            background:  linear-gradient(90deg,#d65f5f 16.0%, transparent 0%);\n",
       "        }    #T_a52ff754_8c54_11e8_91f4_5ce0c5892623row9_col0 {\n",
       "            width:  10em;\n",
       "             height:  80%;\n",
       "            background:  linear-gradient(90deg,#d65f5f 12.6%, transparent 0%);\n",
       "        }    #T_a52ff754_8c54_11e8_91f4_5ce0c5892623row9_col1 {\n",
       "            width:  10em;\n",
       "             height:  80%;\n",
       "        }</style>  \n",
       "<table id=\"T_a52ff754_8c54_11e8_91f4_5ce0c5892623\" > \n",
       "<thead>    <tr> \n",
       "        <th class=\"blank\" ></th> \n",
       "        <th class=\"blank\" ></th> \n",
       "        <th class=\"blank level0\" ></th> \n",
       "        <th class=\"col_heading level0 col0\" >export_val</th> \n",
       "        <th class=\"col_heading level0 col1\" >import_val</th> \n",
       "    </tr>    <tr> \n",
       "        <th class=\"index_name level0\" >year</th> \n",
       "        <th class=\"index_name level1\" >ccode</th> \n",
       "        <th class=\"index_name level2\" >SITC label 1</th> \n",
       "        <th class=\"blank\" ></th> \n",
       "        <th class=\"blank\" ></th> \n",
       "    </tr></thead> \n",
       "<tbody>    <tr> \n",
       "        <th id=\"T_a52ff754_8c54_11e8_91f4_5ce0c5892623level0_row0\" class=\"row_heading level0 row0\" rowspan=10>2010</th> \n",
       "        <th id=\"T_a52ff754_8c54_11e8_91f4_5ce0c5892623level1_row0\" class=\"row_heading level1 row0\" rowspan=10>arg</th> \n",
       "        <th id=\"T_a52ff754_8c54_11e8_91f4_5ce0c5892623level2_row0\" class=\"row_heading level2 row0\" >0 - Food and live animals</th> \n",
       "        <td id=\"T_a52ff754_8c54_11e8_91f4_5ce0c5892623row0_col0\" class=\"data row0 col0\" >1.6075e+10</td> \n",
       "        <td id=\"T_a52ff754_8c54_11e8_91f4_5ce0c5892623row0_col1\" class=\"data row0 col1\" >7.33416e+08</td> \n",
       "    </tr>    <tr> \n",
       "        <th id=\"T_a52ff754_8c54_11e8_91f4_5ce0c5892623level2_row1\" class=\"row_heading level2 row1\" >1 - Beverages and tobacco</th> \n",
       "        <td id=\"T_a52ff754_8c54_11e8_91f4_5ce0c5892623row1_col0\" class=\"data row1 col0\" >1.1629e+09</td> \n",
       "        <td id=\"T_a52ff754_8c54_11e8_91f4_5ce0c5892623row1_col1\" class=\"data row1 col1\" >1.27683e+08</td> \n",
       "    </tr>    <tr> \n",
       "        <th id=\"T_a52ff754_8c54_11e8_91f4_5ce0c5892623level2_row2\" class=\"row_heading level2 row2\" >2 - Crude materials, inedible, except fuels</th> \n",
       "        <td id=\"T_a52ff754_8c54_11e8_91f4_5ce0c5892623row2_col0\" class=\"data row2 col0\" >6.52832e+09</td> \n",
       "        <td id=\"T_a52ff754_8c54_11e8_91f4_5ce0c5892623row2_col1\" class=\"data row2 col1\" >1.15344e+09</td> \n",
       "    </tr>    <tr> \n",
       "        <th id=\"T_a52ff754_8c54_11e8_91f4_5ce0c5892623level2_row3\" class=\"row_heading level2 row3\" >3 - Mineral fuels, lubricants and related materials</th> \n",
       "        <td id=\"T_a52ff754_8c54_11e8_91f4_5ce0c5892623row3_col0\" class=\"data row3 col0\" >2.62599e+09</td> \n",
       "        <td id=\"T_a52ff754_8c54_11e8_91f4_5ce0c5892623row3_col1\" class=\"data row3 col1\" >7.37761e+08</td> \n",
       "    </tr>    <tr> \n",
       "        <th id=\"T_a52ff754_8c54_11e8_91f4_5ce0c5892623level2_row4\" class=\"row_heading level2 row4\" >4 - Animal and vegetable oils, fats and waxes</th> \n",
       "        <td id=\"T_a52ff754_8c54_11e8_91f4_5ce0c5892623row4_col0\" class=\"data row4 col0\" >1.08585e+08</td> \n",
       "        <td id=\"T_a52ff754_8c54_11e8_91f4_5ce0c5892623row4_col1\" class=\"data row4 col1\" >4.80258e+07</td> \n",
       "    </tr>    <tr> \n",
       "        <th id=\"T_a52ff754_8c54_11e8_91f4_5ce0c5892623level2_row5\" class=\"row_heading level2 row5\" >5 - Chemicals and related products, n.e.s.</th> \n",
       "        <td id=\"T_a52ff754_8c54_11e8_91f4_5ce0c5892623row5_col0\" class=\"data row5 col0\" >4.00185e+09</td> \n",
       "        <td id=\"T_a52ff754_8c54_11e8_91f4_5ce0c5892623row5_col1\" class=\"data row5 col1\" >7.01716e+09</td> \n",
       "    </tr>    <tr> \n",
       "        <th id=\"T_a52ff754_8c54_11e8_91f4_5ce0c5892623level2_row6\" class=\"row_heading level2 row6\" >6 - Manufactured goods classified chiefly by material</th> \n",
       "        <td id=\"T_a52ff754_8c54_11e8_91f4_5ce0c5892623row6_col0\" class=\"data row6 col0\" >4.07031e+09</td> \n",
       "        <td id=\"T_a52ff754_8c54_11e8_91f4_5ce0c5892623row6_col1\" class=\"data row6 col1\" >4.42418e+09</td> \n",
       "    </tr>    <tr> \n",
       "        <th id=\"T_a52ff754_8c54_11e8_91f4_5ce0c5892623level2_row7\" class=\"row_heading level2 row7\" >7 - Machinery and transport equipment</th> \n",
       "        <td id=\"T_a52ff754_8c54_11e8_91f4_5ce0c5892623row7_col0\" class=\"data row7 col0\" >5.4861e+09</td> \n",
       "        <td id=\"T_a52ff754_8c54_11e8_91f4_5ce0c5892623row7_col1\" class=\"data row7 col1\" >1.4786e+10</td> \n",
       "    </tr>    <tr> \n",
       "        <th id=\"T_a52ff754_8c54_11e8_91f4_5ce0c5892623level2_row8\" class=\"row_heading level2 row8\" >8 - Miscellaneous manufactured articles</th> \n",
       "        <td id=\"T_a52ff754_8c54_11e8_91f4_5ce0c5892623row8_col0\" class=\"data row8 col0\" >7.22948e+08</td> \n",
       "        <td id=\"T_a52ff754_8c54_11e8_91f4_5ce0c5892623row8_col1\" class=\"data row8 col1\" >2.37455e+09</td> \n",
       "    </tr>    <tr> \n",
       "        <th id=\"T_a52ff754_8c54_11e8_91f4_5ce0c5892623level2_row9\" class=\"row_heading level2 row9\" >9 - Commodities and transactions not classified elsewhere in the SITC</th> \n",
       "        <td id=\"T_a52ff754_8c54_11e8_91f4_5ce0c5892623row9_col0\" class=\"data row9 col0\" >2.12051e+09</td> \n",
       "        <td id=\"T_a52ff754_8c54_11e8_91f4_5ce0c5892623row9_col1\" class=\"data row9 col1\" >1.78992e+07</td> \n",
       "    </tr></tbody> \n",
       "</table> "
      ],
      "text/plain": [
       "<pandas.io.formats.style.Styler at 0x7ff5cbe4e810>"
      ]
     },
     "execution_count": 3,
     "metadata": {},
     "output_type": "execute_result"
    }
   ],
   "source": [
    "merged = data.merge(SITC4_full[['SITC ID 4', 'SITC label 1']].drop_duplicates(), left_on = 'pcode', right_on = 'SITC ID 4')\n",
    "\n",
    "df = merged.loc[merged.ccode == 'arg'].loc[merged.year == 2010].groupby(['year', 'ccode', 'SITC label 1']).sum()[['export_val', 'import_val']]\n",
    "\n",
    "df.style.bar(subset=['export_val', 'import_val'], color='#d65f5f')"
   ]
  },
  {
   "cell_type": "markdown",
   "metadata": {},
   "source": [
    "## Exportaciones, importaciones y saldo"
   ]
  },
  {
   "cell_type": "code",
   "execution_count": 4,
   "metadata": {
    "collapsed": false
   },
   "outputs": [],
   "source": [
    "data['decada'] = data['year'].round(-1)\n",
    "# data['import_val'] = - data['import_val']\n",
    "data['saldo'] = data['export_val'] - data['import_val']\n",
    "grouped = data.groupby(['decada', 'ccode', 'pcode'])[['export_val', 'import_val', 'saldo']].sum()/1000000./10.\n"
   ]
  },
  {
   "cell_type": "code",
   "execution_count": 5,
   "metadata": {
    "collapsed": true
   },
   "outputs": [],
   "source": [
    "def get_main_entries(df, column, pct = .8):\n",
    "    sorted = df.sort_values(by = column, ascending = False)\n",
    "    pct_cumsum = sorted[column].cumsum()/sorted[column].sum()\n",
    "    sorted_sel = sorted[pct_cumsum < pct]\n",
    "\n",
    "    return sorted_sel\n",
    "\n",
    "pr = pd.read_csv('./products_sitc_rev2.tsv', delimiter = '\\t')\n",
    "pr.columns = ['id', 'SITC ID 4', 'SITC label 4']"
   ]
  },
  {
   "cell_type": "markdown",
   "metadata": {},
   "source": [
    "## Explorador de balanzas comerciales\n",
    "### Ver balanza eligiendo pais, decada o productos.  (millones de USD promedio anual)"
   ]
  },
  {
   "cell_type": "code",
   "execution_count": 22,
   "metadata": {
    "collapsed": false
   },
   "outputs": [],
   "source": [
    "import imgkit\n",
    "\n",
    "decada = 2010\n",
    "pais = 'arg'\n",
    "# producto = 5417 # Medicamentos\n",
    "ordenar_por = 'import_val'\n",
    "\n",
    "df_selection = grouped.reset_index().loc[(df.decada == decada) & (df.ccode == pais)]\n",
    "\n",
    "df_summary = get_main_entries(df_selection, ordenar_por, .9)\n",
    "df_summary = df_selection.sort_values(by = 'saldo')\n",
    "\n",
    "df_summary = df_summary.merge(pr[['SITC ID 4', 'SITC label 4']], left_on = 'pcode', right_on = 'SITC ID 4', how = 'left')\n",
    "df_summary = df_summary[['decada', 'ccode', 'pcode','SITC label 4', 'export_val', 'import_val', 'saldo']]"
   ]
  },
  {
   "cell_type": "code",
   "execution_count": 47,
   "metadata": {
    "collapsed": false
   },
   "outputs": [
    {
     "data": {
      "text/plain": [
       "True"
      ]
     },
     "execution_count": 47,
     "metadata": {},
     "output_type": "execute_result"
    }
   ],
   "source": [
    "# Muestra top 15\n",
    "\n",
    "surplus = True\n",
    "\n",
    "if surplus:\n",
    "    label = 'sup'\n",
    "    styled = df_summary.tail(10).style.bar(subset=['export_val', 'import_val', 'saldo'], align='mid', color=['#d65f5f', '#5fba7d'])\n",
    "else:\n",
    "    label = 'def'\n",
    "    styled = df_summary.head(10).style.bar(subset=['export_val', 'import_val', 'saldo'], align='mid', color=['#d65f5f', '#5fba7d'])\n",
    "\n",
    "imgkit.from_string(styled.render(), './'+str(pais)+'_'+str(decada)+'_'+str(label)+'.png')"
   ]
  },
  {
   "cell_type": "code",
   "execution_count": 46,
   "metadata": {
    "collapsed": true
   },
   "outputs": [
    {
     "data": {
      "text/plain": [
       "u'<style  type=\"text/css\" >\\n    #T_0a45f3d2_8c5a_11e8_91f4_5ce0c5892623row0_col4 {\\n            width:  10em;\\n             height:  80%;\\n            background:  linear-gradient(90deg, transparent 0%, transparent 0.0%, #5fba7d 0.0%, #5fba7d 12.7%, transparent 12.7%);\\n            width:  10em;\\n             height:  80%;\\n            background:  linear-gradient(90deg, transparent 0%, transparent 0.0%, #5fba7d 0.0%, #5fba7d 12.7%, transparent 12.7%);\\n        }    #T_0a45f3d2_8c5a_11e8_91f4_5ce0c5892623row0_col5 {\\n            width:  10em;\\n             height:  80%;\\n            background:  linear-gradient(90deg, transparent 0%, transparent 0.0%, #5fba7d 0.0%, #5fba7d 0.4%, transparent 0.4%);\\n            width:  10em;\\n             height:  80%;\\n            background:  linear-gradient(90deg, transparent 0%, transparent 0.0%, #5fba7d 0.0%, #5fba7d 0.4%, transparent 0.4%);\\n        }    #T_0a45f3d2_8c5a_11e8_91f4_5ce0c5892623row0_col6 {\\n            width:  10em;\\n             height:  80%;\\n            background:  linear-gradient(90deg, transparent 0%, transparent 0.0%, #5fba7d 0.0%, #5fba7d 12.7%, transparent 12.7%);\\n            width:  10em;\\n             height:  80%;\\n            background:  linear-gradient(90deg, transparent 0%, transparent 0.0%, #5fba7d 0.0%, #5fba7d 12.7%, transparent 12.7%);\\n        }    #T_0a45f3d2_8c5a_11e8_91f4_5ce0c5892623row1_col4 {\\n            width:  10em;\\n             height:  80%;\\n            background:  linear-gradient(90deg, transparent 0%, transparent 0.0%, #5fba7d 0.0%, #5fba7d 12.9%, transparent 12.9%);\\n            width:  10em;\\n             height:  80%;\\n            background:  linear-gradient(90deg, transparent 0%, transparent 0.0%, #5fba7d 0.0%, #5fba7d 12.9%, transparent 12.9%);\\n        }    #T_0a45f3d2_8c5a_11e8_91f4_5ce0c5892623row1_col5 {\\n            width:  10em;\\n             height:  80%;\\n            background:  linear-gradient(90deg, transparent 0%, transparent 0.0%, #5fba7d 0.0%, #5fba7d 0.2%, transparent 0.2%);\\n            width:  10em;\\n             height:  80%;\\n            background:  linear-gradient(90deg, transparent 0%, transparent 0.0%, #5fba7d 0.0%, #5fba7d 0.2%, transparent 0.2%);\\n        }    #T_0a45f3d2_8c5a_11e8_91f4_5ce0c5892623row1_col6 {\\n            width:  10em;\\n             height:  80%;\\n            background:  linear-gradient(90deg, transparent 0%, transparent 0.0%, #5fba7d 0.0%, #5fba7d 12.8%, transparent 12.8%);\\n            width:  10em;\\n             height:  80%;\\n            background:  linear-gradient(90deg, transparent 0%, transparent 0.0%, #5fba7d 0.0%, #5fba7d 12.8%, transparent 12.8%);\\n        }    #T_0a45f3d2_8c5a_11e8_91f4_5ce0c5892623row2_col4 {\\n            width:  10em;\\n             height:  80%;\\n            background:  linear-gradient(90deg, transparent 0%, transparent 0.0%, #5fba7d 0.0%, #5fba7d 15.6%, transparent 15.6%);\\n            width:  10em;\\n             height:  80%;\\n            background:  linear-gradient(90deg, transparent 0%, transparent 0.0%, #5fba7d 0.0%, #5fba7d 15.6%, transparent 15.6%);\\n        }    #T_0a45f3d2_8c5a_11e8_91f4_5ce0c5892623row2_col5 {\\n            width:  10em;\\n             height:  80%;\\n            background:  linear-gradient(90deg, transparent 0%, transparent 0.0%, #5fba7d 0.0%, #5fba7d 0.0%, transparent 0.0%);\\n            width:  10em;\\n             height:  80%;\\n            background:  linear-gradient(90deg, transparent 0%, transparent 0.0%, #5fba7d 0.0%, #5fba7d 0.0%, transparent 0.0%);\\n        }    #T_0a45f3d2_8c5a_11e8_91f4_5ce0c5892623row2_col6 {\\n            width:  10em;\\n             height:  80%;\\n            background:  linear-gradient(90deg, transparent 0%, transparent 0.0%, #5fba7d 0.0%, #5fba7d 15.6%, transparent 15.6%);\\n            width:  10em;\\n             height:  80%;\\n            background:  linear-gradient(90deg, transparent 0%, transparent 0.0%, #5fba7d 0.0%, #5fba7d 15.6%, transparent 15.6%);\\n        }    #T_0a45f3d2_8c5a_11e8_91f4_5ce0c5892623row3_col4 {\\n            width:  10em;\\n             height:  80%;\\n            background:  linear-gradient(90deg, transparent 0%, transparent 0.0%, #5fba7d 0.0%, #5fba7d 18.0%, transparent 18.0%);\\n            width:  10em;\\n             height:  80%;\\n            background:  linear-gradient(90deg, transparent 0%, transparent 0.0%, #5fba7d 0.0%, #5fba7d 18.0%, transparent 18.0%);\\n        }    #T_0a45f3d2_8c5a_11e8_91f4_5ce0c5892623row3_col5 {\\n            width:  10em;\\n             height:  80%;\\n            background:  linear-gradient(90deg, transparent 0%, transparent 0.0%, #5fba7d 0.0%, #5fba7d 0.0%, transparent 0.0%);\\n            width:  10em;\\n             height:  80%;\\n            background:  linear-gradient(90deg, transparent 0%, transparent 0.0%, #5fba7d 0.0%, #5fba7d 0.0%, transparent 0.0%);\\n        }    #T_0a45f3d2_8c5a_11e8_91f4_5ce0c5892623row3_col6 {\\n            width:  10em;\\n             height:  80%;\\n            background:  linear-gradient(90deg, transparent 0%, transparent 0.0%, #5fba7d 0.0%, #5fba7d 18.0%, transparent 18.0%);\\n            width:  10em;\\n             height:  80%;\\n            background:  linear-gradient(90deg, transparent 0%, transparent 0.0%, #5fba7d 0.0%, #5fba7d 18.0%, transparent 18.0%);\\n        }    #T_0a45f3d2_8c5a_11e8_91f4_5ce0c5892623row4_col4 {\\n            width:  10em;\\n             height:  80%;\\n            background:  linear-gradient(90deg, transparent 0%, transparent 0.0%, #5fba7d 0.0%, #5fba7d 29.3%, transparent 29.3%);\\n            width:  10em;\\n             height:  80%;\\n            background:  linear-gradient(90deg, transparent 0%, transparent 0.0%, #5fba7d 0.0%, #5fba7d 29.3%, transparent 29.3%);\\n        }    #T_0a45f3d2_8c5a_11e8_91f4_5ce0c5892623row4_col5 {\\n            width:  10em;\\n             height:  80%;\\n            background:  linear-gradient(90deg, transparent 0%, transparent 0.0%, #5fba7d 0.0%, #5fba7d 100.0%, transparent 100.0%);\\n            width:  10em;\\n             height:  80%;\\n            background:  linear-gradient(90deg, transparent 0%, transparent 0.0%, #5fba7d 0.0%, #5fba7d 100.0%, transparent 100.0%);\\n        }    #T_0a45f3d2_8c5a_11e8_91f4_5ce0c5892623row4_col6 {\\n            width:  10em;\\n             height:  80%;\\n            background:  linear-gradient(90deg, transparent 0%, transparent 0.0%, #5fba7d 0.0%, #5fba7d 18.7%, transparent 18.7%);\\n            width:  10em;\\n             height:  80%;\\n            background:  linear-gradient(90deg, transparent 0%, transparent 0.0%, #5fba7d 0.0%, #5fba7d 18.7%, transparent 18.7%);\\n        }    #T_0a45f3d2_8c5a_11e8_91f4_5ce0c5892623row5_col4 {\\n            width:  10em;\\n             height:  80%;\\n            background:  linear-gradient(90deg, transparent 0%, transparent 0.0%, #5fba7d 0.0%, #5fba7d 23.1%, transparent 23.1%);\\n            width:  10em;\\n             height:  80%;\\n            background:  linear-gradient(90deg, transparent 0%, transparent 0.0%, #5fba7d 0.0%, #5fba7d 23.1%, transparent 23.1%);\\n        }    #T_0a45f3d2_8c5a_11e8_91f4_5ce0c5892623row5_col5 {\\n            width:  10em;\\n             height:  80%;\\n            background:  linear-gradient(90deg, transparent 0%, transparent 0.0%, #5fba7d 0.0%, #5fba7d 9.0%, transparent 9.0%);\\n            width:  10em;\\n             height:  80%;\\n            background:  linear-gradient(90deg, transparent 0%, transparent 0.0%, #5fba7d 0.0%, #5fba7d 9.0%, transparent 9.0%);\\n        }    #T_0a45f3d2_8c5a_11e8_91f4_5ce0c5892623row5_col6 {\\n            width:  10em;\\n             height:  80%;\\n            background:  linear-gradient(90deg, transparent 0%, transparent 0.0%, #5fba7d 0.0%, #5fba7d 22.2%, transparent 22.2%);\\n            width:  10em;\\n             height:  80%;\\n            background:  linear-gradient(90deg, transparent 0%, transparent 0.0%, #5fba7d 0.0%, #5fba7d 22.2%, transparent 22.2%);\\n        }    #T_0a45f3d2_8c5a_11e8_91f4_5ce0c5892623row6_col4 {\\n            width:  10em;\\n             height:  80%;\\n            background:  linear-gradient(90deg, transparent 0%, transparent 0.0%, #5fba7d 0.0%, #5fba7d 39.3%, transparent 39.3%);\\n            width:  10em;\\n             height:  80%;\\n            background:  linear-gradient(90deg, transparent 0%, transparent 0.0%, #5fba7d 0.0%, #5fba7d 39.3%, transparent 39.3%);\\n        }    #T_0a45f3d2_8c5a_11e8_91f4_5ce0c5892623row6_col5 {\\n            width:  10em;\\n             height:  80%;\\n            background:  linear-gradient(90deg, transparent 0%, transparent 0.0%, #5fba7d 0.0%, #5fba7d 1.9%, transparent 1.9%);\\n            width:  10em;\\n             height:  80%;\\n            background:  linear-gradient(90deg, transparent 0%, transparent 0.0%, #5fba7d 0.0%, #5fba7d 1.9%, transparent 1.9%);\\n        }    #T_0a45f3d2_8c5a_11e8_91f4_5ce0c5892623row6_col6 {\\n            width:  10em;\\n             height:  80%;\\n            background:  linear-gradient(90deg, transparent 0%, transparent 0.0%, #5fba7d 0.0%, #5fba7d 39.1%, transparent 39.1%);\\n            width:  10em;\\n             height:  80%;\\n            background:  linear-gradient(90deg, transparent 0%, transparent 0.0%, #5fba7d 0.0%, #5fba7d 39.1%, transparent 39.1%);\\n        }    #T_0a45f3d2_8c5a_11e8_91f4_5ce0c5892623row7_col4 {\\n            width:  10em;\\n             height:  80%;\\n            background:  linear-gradient(90deg, transparent 0%, transparent 0.0%, #5fba7d 0.0%, #5fba7d 44.2%, transparent 44.2%);\\n            width:  10em;\\n             height:  80%;\\n            background:  linear-gradient(90deg, transparent 0%, transparent 0.0%, #5fba7d 0.0%, #5fba7d 44.2%, transparent 44.2%);\\n        }    #T_0a45f3d2_8c5a_11e8_91f4_5ce0c5892623row7_col5 {\\n            width:  10em;\\n             height:  80%;\\n            background:  linear-gradient(90deg, transparent 0%, transparent 0.0%, #5fba7d 0.0%, #5fba7d 26.2%, transparent 26.2%);\\n            width:  10em;\\n             height:  80%;\\n            background:  linear-gradient(90deg, transparent 0%, transparent 0.0%, #5fba7d 0.0%, #5fba7d 26.2%, transparent 26.2%);\\n        }    #T_0a45f3d2_8c5a_11e8_91f4_5ce0c5892623row7_col6 {\\n            width:  10em;\\n             height:  80%;\\n            background:  linear-gradient(90deg, transparent 0%, transparent 0.0%, #5fba7d 0.0%, #5fba7d 41.4%, transparent 41.4%);\\n            width:  10em;\\n             height:  80%;\\n            background:  linear-gradient(90deg, transparent 0%, transparent 0.0%, #5fba7d 0.0%, #5fba7d 41.4%, transparent 41.4%);\\n        }    #T_0a45f3d2_8c5a_11e8_91f4_5ce0c5892623row8_col4 {\\n            width:  10em;\\n             height:  80%;\\n            background:  linear-gradient(90deg, transparent 0%, transparent 0.0%, #5fba7d 0.0%, #5fba7d 44.1%, transparent 44.1%);\\n            width:  10em;\\n             height:  80%;\\n            background:  linear-gradient(90deg, transparent 0%, transparent 0.0%, #5fba7d 0.0%, #5fba7d 44.1%, transparent 44.1%);\\n        }    #T_0a45f3d2_8c5a_11e8_91f4_5ce0c5892623row8_col5 {\\n            width:  10em;\\n             height:  80%;\\n            background:  linear-gradient(90deg, transparent 0%, transparent 0.0%, #5fba7d 0.0%, #5fba7d 1.2%, transparent 1.2%);\\n            width:  10em;\\n             height:  80%;\\n            background:  linear-gradient(90deg, transparent 0%, transparent 0.0%, #5fba7d 0.0%, #5fba7d 1.2%, transparent 1.2%);\\n        }    #T_0a45f3d2_8c5a_11e8_91f4_5ce0c5892623row8_col6 {\\n            width:  10em;\\n             height:  80%;\\n            background:  linear-gradient(90deg, transparent 0%, transparent 0.0%, #5fba7d 0.0%, #5fba7d 44.0%, transparent 44.0%);\\n            width:  10em;\\n             height:  80%;\\n            background:  linear-gradient(90deg, transparent 0%, transparent 0.0%, #5fba7d 0.0%, #5fba7d 44.0%, transparent 44.0%);\\n        }    #T_0a45f3d2_8c5a_11e8_91f4_5ce0c5892623row9_col4 {\\n            width:  10em;\\n             height:  80%;\\n            background:  linear-gradient(90deg, transparent 0%, transparent 0.0%, #5fba7d 0.0%, #5fba7d 100.0%, transparent 100.0%);\\n            width:  10em;\\n             height:  80%;\\n            background:  linear-gradient(90deg, transparent 0%, transparent 0.0%, #5fba7d 0.0%, #5fba7d 100.0%, transparent 100.0%);\\n        }    #T_0a45f3d2_8c5a_11e8_91f4_5ce0c5892623row9_col5 {\\n            width:  10em;\\n             height:  80%;\\n            background:  linear-gradient(90deg, transparent 0%, transparent 0.0%, #5fba7d 0.0%, #5fba7d 0.1%, transparent 0.1%);\\n            width:  10em;\\n             height:  80%;\\n            background:  linear-gradient(90deg, transparent 0%, transparent 0.0%, #5fba7d 0.0%, #5fba7d 0.1%, transparent 0.1%);\\n        }    #T_0a45f3d2_8c5a_11e8_91f4_5ce0c5892623row9_col6 {\\n            width:  10em;\\n             height:  80%;\\n            background:  linear-gradient(90deg, transparent 0%, transparent 0.0%, #5fba7d 0.0%, #5fba7d 100.0%, transparent 100.0%);\\n            width:  10em;\\n             height:  80%;\\n            background:  linear-gradient(90deg, transparent 0%, transparent 0.0%, #5fba7d 0.0%, #5fba7d 100.0%, transparent 100.0%);\\n        }</style>  \\n<table id=\"T_0a45f3d2_8c5a_11e8_91f4_5ce0c5892623\" > \\n<thead>    <tr> \\n        <th class=\"blank level0\" ></th> \\n        <th class=\"col_heading level0 col0\" >decada</th> \\n        <th class=\"col_heading level0 col1\" >ccode</th> \\n        <th class=\"col_heading level0 col2\" >pcode</th> \\n        <th class=\"col_heading level0 col3\" >SITC label 4</th> \\n        <th class=\"col_heading level0 col4\" >export_val</th> \\n        <th class=\"col_heading level0 col5\" >import_val</th> \\n        <th class=\"col_heading level0 col6\" >saldo</th> \\n    </tr></thead> \\n<tbody>    <tr> \\n        <th id=\"T_0a45f3d2_8c5a_11e8_91f4_5ce0c5892623level0_row0\" class=\"row_heading level0 row0\" >761</th> \\n        <td id=\"T_0a45f3d2_8c5a_11e8_91f4_5ce0c5892623row0_col0\" class=\"data row0 col0\" >2010</td> \\n        <td id=\"T_0a45f3d2_8c5a_11e8_91f4_5ce0c5892623row0_col1\" class=\"data row0 col1\" >arg</td> \\n        <td id=\"T_0a45f3d2_8c5a_11e8_91f4_5ce0c5892623row0_col2\" class=\"data row0 col2\" >111</td> \\n        <td id=\"T_0a45f3d2_8c5a_11e8_91f4_5ce0c5892623row0_col3\" class=\"data row0 col3\" >Bovine meat</td> \\n        <td id=\"T_0a45f3d2_8c5a_11e8_91f4_5ce0c5892623row0_col4\" class=\"data row0 col4\" >1023.93</td> \\n        <td id=\"T_0a45f3d2_8c5a_11e8_91f4_5ce0c5892623row0_col5\" class=\"data row0 col5\" >3.75586</td> \\n        <td id=\"T_0a45f3d2_8c5a_11e8_91f4_5ce0c5892623row0_col6\" class=\"data row0 col6\" >1020.18</td> \\n    </tr>    <tr> \\n        <th id=\"T_0a45f3d2_8c5a_11e8_91f4_5ce0c5892623level0_row1\" class=\"row_heading level0 row1\" >762</th> \\n        <td id=\"T_0a45f3d2_8c5a_11e8_91f4_5ce0c5892623row1_col0\" class=\"data row1 col0\" >2010</td> \\n        <td id=\"T_0a45f3d2_8c5a_11e8_91f4_5ce0c5892623row1_col1\" class=\"data row1 col1\" >arg</td> \\n        <td id=\"T_0a45f3d2_8c5a_11e8_91f4_5ce0c5892623row1_col2\" class=\"data row1 col2\" >2871</td> \\n        <td id=\"T_0a45f3d2_8c5a_11e8_91f4_5ce0c5892623row1_col3\" class=\"data row1 col3\" >Copper Ores</td> \\n        <td id=\"T_0a45f3d2_8c5a_11e8_91f4_5ce0c5892623row1_col4\" class=\"data row1 col4\" >1036.8</td> \\n        <td id=\"T_0a45f3d2_8c5a_11e8_91f4_5ce0c5892623row1_col5\" class=\"data row1 col5\" >1.74282</td> \\n        <td id=\"T_0a45f3d2_8c5a_11e8_91f4_5ce0c5892623row1_col6\" class=\"data row1 col6\" >1035.06</td> \\n    </tr>    <tr> \\n        <th id=\"T_0a45f3d2_8c5a_11e8_91f4_5ce0c5892623level0_row2\" class=\"row_heading level0 row2\" >763</th> \\n        <td id=\"T_0a45f3d2_8c5a_11e8_91f4_5ce0c5892623row2_col0\" class=\"data row2 col0\" >2010</td> \\n        <td id=\"T_0a45f3d2_8c5a_11e8_91f4_5ce0c5892623row2_col1\" class=\"data row2 col1\" >arg</td> \\n        <td id=\"T_0a45f3d2_8c5a_11e8_91f4_5ce0c5892623row2_col2\" class=\"data row2 col2\" >9710</td> \\n        <td id=\"T_0a45f3d2_8c5a_11e8_91f4_5ce0c5892623row2_col3\" class=\"data row2 col3\" >Gold</td> \\n        <td id=\"T_0a45f3d2_8c5a_11e8_91f4_5ce0c5892623row2_col4\" class=\"data row2 col4\" >1255.35</td> \\n        <td id=\"T_0a45f3d2_8c5a_11e8_91f4_5ce0c5892623row2_col5\" class=\"data row2 col5\" >0.126645</td> \\n        <td id=\"T_0a45f3d2_8c5a_11e8_91f4_5ce0c5892623row2_col6\" class=\"data row2 col6\" >1255.22</td> \\n    </tr>    <tr> \\n        <th id=\"T_0a45f3d2_8c5a_11e8_91f4_5ce0c5892623level0_row3\" class=\"row_heading level0 row3\" >764</th> \\n        <td id=\"T_0a45f3d2_8c5a_11e8_91f4_5ce0c5892623row3_col0\" class=\"data row3 col0\" >2010</td> \\n        <td id=\"T_0a45f3d2_8c5a_11e8_91f4_5ce0c5892623row3_col1\" class=\"data row3 col1\" >arg</td> \\n        <td id=\"T_0a45f3d2_8c5a_11e8_91f4_5ce0c5892623row3_col2\" class=\"data row3 col2\" >412</td> \\n        <td id=\"T_0a45f3d2_8c5a_11e8_91f4_5ce0c5892623row3_col3\" class=\"data row3 col3\" >Miscellaneous Wheat</td> \\n        <td id=\"T_0a45f3d2_8c5a_11e8_91f4_5ce0c5892623row3_col4\" class=\"data row3 col4\" >1450.36</td> \\n        <td id=\"T_0a45f3d2_8c5a_11e8_91f4_5ce0c5892623row3_col5\" class=\"data row3 col5\" >0.0507171</td> \\n        <td id=\"T_0a45f3d2_8c5a_11e8_91f4_5ce0c5892623row3_col6\" class=\"data row3 col6\" >1450.31</td> \\n    </tr>    <tr> \\n        <th id=\"T_0a45f3d2_8c5a_11e8_91f4_5ce0c5892623level0_row4\" class=\"row_heading level0 row4\" >765</th> \\n        <td id=\"T_0a45f3d2_8c5a_11e8_91f4_5ce0c5892623row4_col0\" class=\"data row4 col0\" >2010</td> \\n        <td id=\"T_0a45f3d2_8c5a_11e8_91f4_5ce0c5892623row4_col1\" class=\"data row4 col1\" >arg</td> \\n        <td id=\"T_0a45f3d2_8c5a_11e8_91f4_5ce0c5892623row4_col2\" class=\"data row4 col2\" >7821</td> \\n        <td id=\"T_0a45f3d2_8c5a_11e8_91f4_5ce0c5892623row4_col3\" class=\"data row4 col3\" >Trucks and Vans</td> \\n        <td id=\"T_0a45f3d2_8c5a_11e8_91f4_5ce0c5892623row4_col4\" class=\"data row4 col4\" >2361.69</td> \\n        <td id=\"T_0a45f3d2_8c5a_11e8_91f4_5ce0c5892623row4_col5\" class=\"data row4 col5\" >855.843</td> \\n        <td id=\"T_0a45f3d2_8c5a_11e8_91f4_5ce0c5892623row4_col6\" class=\"data row4 col6\" >1505.85</td> \\n    </tr>    <tr> \\n        <th id=\"T_0a45f3d2_8c5a_11e8_91f4_5ce0c5892623level0_row5\" class=\"row_heading level0 row5\" >766</th> \\n        <td id=\"T_0a45f3d2_8c5a_11e8_91f4_5ce0c5892623row5_col0\" class=\"data row5 col0\" >2010</td> \\n        <td id=\"T_0a45f3d2_8c5a_11e8_91f4_5ce0c5892623row5_col1\" class=\"data row5 col1\" >arg</td> \\n        <td id=\"T_0a45f3d2_8c5a_11e8_91f4_5ce0c5892623row5_col2\" class=\"data row5 col2\" >3330</td> \\n        <td id=\"T_0a45f3d2_8c5a_11e8_91f4_5ce0c5892623row5_col3\" class=\"data row5 col3\" >Crude Petroleum</td> \\n        <td id=\"T_0a45f3d2_8c5a_11e8_91f4_5ce0c5892623row5_col4\" class=\"data row5 col4\" >1863.35</td> \\n        <td id=\"T_0a45f3d2_8c5a_11e8_91f4_5ce0c5892623row5_col5\" class=\"data row5 col5\" >76.8735</td> \\n        <td id=\"T_0a45f3d2_8c5a_11e8_91f4_5ce0c5892623row5_col6\" class=\"data row5 col6\" >1786.48</td> \\n    </tr>    <tr> \\n        <th id=\"T_0a45f3d2_8c5a_11e8_91f4_5ce0c5892623level0_row6\" class=\"row_heading level0 row6\" >767</th> \\n        <td id=\"T_0a45f3d2_8c5a_11e8_91f4_5ce0c5892623row6_col0\" class=\"data row6 col0\" >2010</td> \\n        <td id=\"T_0a45f3d2_8c5a_11e8_91f4_5ce0c5892623row6_col1\" class=\"data row6 col1\" >arg</td> \\n        <td id=\"T_0a45f3d2_8c5a_11e8_91f4_5ce0c5892623row6_col2\" class=\"data row6 col2\" >440</td> \\n        <td id=\"T_0a45f3d2_8c5a_11e8_91f4_5ce0c5892623row6_col3\" class=\"data row6 col3\" >Maize</td> \\n        <td id=\"T_0a45f3d2_8c5a_11e8_91f4_5ce0c5892623row6_col4\" class=\"data row6 col4\" >3166.33</td> \\n        <td id=\"T_0a45f3d2_8c5a_11e8_91f4_5ce0c5892623row6_col5\" class=\"data row6 col5\" >16.4044</td> \\n        <td id=\"T_0a45f3d2_8c5a_11e8_91f4_5ce0c5892623row6_col6\" class=\"data row6 col6\" >3149.92</td> \\n    </tr>    <tr> \\n        <th id=\"T_0a45f3d2_8c5a_11e8_91f4_5ce0c5892623level0_row7\" class=\"row_heading level0 row7\" >768</th> \\n        <td id=\"T_0a45f3d2_8c5a_11e8_91f4_5ce0c5892623row7_col0\" class=\"data row7 col0\" >2010</td> \\n        <td id=\"T_0a45f3d2_8c5a_11e8_91f4_5ce0c5892623row7_col1\" class=\"data row7 col1\" >arg</td> \\n        <td id=\"T_0a45f3d2_8c5a_11e8_91f4_5ce0c5892623row7_col2\" class=\"data row7 col2\" >2222</td> \\n        <td id=\"T_0a45f3d2_8c5a_11e8_91f4_5ce0c5892623row7_col3\" class=\"data row7 col3\" >Soy Beans</td> \\n        <td id=\"T_0a45f3d2_8c5a_11e8_91f4_5ce0c5892623row7_col4\" class=\"data row7 col4\" >3559.84</td> \\n        <td id=\"T_0a45f3d2_8c5a_11e8_91f4_5ce0c5892623row7_col5\" class=\"data row7 col5\" >224.088</td> \\n        <td id=\"T_0a45f3d2_8c5a_11e8_91f4_5ce0c5892623row7_col6\" class=\"data row7 col6\" >3335.75</td> \\n    </tr>    <tr> \\n        <th id=\"T_0a45f3d2_8c5a_11e8_91f4_5ce0c5892623level0_row8\" class=\"row_heading level0 row8\" >769</th> \\n        <td id=\"T_0a45f3d2_8c5a_11e8_91f4_5ce0c5892623row8_col0\" class=\"data row8 col0\" >2010</td> \\n        <td id=\"T_0a45f3d2_8c5a_11e8_91f4_5ce0c5892623row8_col1\" class=\"data row8 col1\" >arg</td> \\n        <td id=\"T_0a45f3d2_8c5a_11e8_91f4_5ce0c5892623row8_col2\" class=\"data row8 col2\" >4232</td> \\n        <td id=\"T_0a45f3d2_8c5a_11e8_91f4_5ce0c5892623row8_col3\" class=\"data row8 col3\" >Soy Bean Oil</td> \\n        <td id=\"T_0a45f3d2_8c5a_11e8_91f4_5ce0c5892623row8_col4\" class=\"data row8 col4\" >3558.73</td> \\n        <td id=\"T_0a45f3d2_8c5a_11e8_91f4_5ce0c5892623row8_col5\" class=\"data row8 col5\" >10.559</td> \\n        <td id=\"T_0a45f3d2_8c5a_11e8_91f4_5ce0c5892623row8_col6\" class=\"data row8 col6\" >3548.17</td> \\n    </tr>    <tr> \\n        <th id=\"T_0a45f3d2_8c5a_11e8_91f4_5ce0c5892623level0_row9\" class=\"row_heading level0 row9\" >770</th> \\n        <td id=\"T_0a45f3d2_8c5a_11e8_91f4_5ce0c5892623row9_col0\" class=\"data row9 col0\" >2010</td> \\n        <td id=\"T_0a45f3d2_8c5a_11e8_91f4_5ce0c5892623row9_col1\" class=\"data row9 col1\" >arg</td> \\n        <td id=\"T_0a45f3d2_8c5a_11e8_91f4_5ce0c5892623row9_col2\" class=\"data row9 col2\" >813</td> \\n        <td id=\"T_0a45f3d2_8c5a_11e8_91f4_5ce0c5892623row9_col3\" class=\"data row9 col3\" >Oilcake</td> \\n        <td id=\"T_0a45f3d2_8c5a_11e8_91f4_5ce0c5892623row9_col4\" class=\"data row9 col4\" >8061.87</td> \\n        <td id=\"T_0a45f3d2_8c5a_11e8_91f4_5ce0c5892623row9_col5\" class=\"data row9 col5\" >0.589694</td> \\n        <td id=\"T_0a45f3d2_8c5a_11e8_91f4_5ce0c5892623row9_col6\" class=\"data row9 col6\" >8061.28</td> \\n    </tr></tbody> \\n</table> '"
      ]
     },
     "execution_count": 46,
     "metadata": {},
     "output_type": "execute_result"
    }
   ],
   "source": [
    "styled.render()"
   ]
  },
  {
   "cell_type": "code",
   "execution_count": 43,
   "metadata": {
    "collapsed": false
   },
   "outputs": [
    {
     "data": {
      "text/plain": [
       "True"
      ]
     },
     "execution_count": 43,
     "metadata": {},
     "output_type": "execute_result"
    }
   ],
   "source": [
    "html = styled_table.render()\n",
    "import imgkit\n",
    "imgkit.from_string(html, 'styled_table.png')"
   ]
  },
  {
   "cell_type": "code",
   "execution_count": 40,
   "metadata": {
    "collapsed": false
   },
   "outputs": [
    {
     "data": {
      "text/plain": [
       "ccode\n",
       "gbr    3.476282e+11\n",
       "can    3.620466e+11\n",
       "nld    3.744516e+11\n",
       "ita    3.880825e+11\n",
       "kor    4.293415e+11\n",
       "fra    4.867175e+11\n",
       "jpn    6.820606e+11\n",
       "deu    1.062556e+12\n",
       "usa    1.102567e+12\n",
       "chn    1.680028e+12\n",
       "Name: export_val, dtype: float64"
      ]
     },
     "execution_count": 40,
     "metadata": {},
     "output_type": "execute_result"
    }
   ],
   "source": [
    "data.loc[data.year == 2010].groupby(['ccode']).sum()['export_val'].sort_values().tail(10)"
   ]
  },
  {
   "cell_type": "code",
   "execution_count": null,
   "metadata": {
    "collapsed": true
   },
   "outputs": [],
   "source": []
  }
 ],
 "metadata": {
  "kernelspec": {
   "display_name": "Python 2",
   "language": "python",
   "name": "python2"
  },
  "language_info": {
   "codemirror_mode": {
    "name": "ipython",
    "version": 2
   },
   "file_extension": ".py",
   "mimetype": "text/x-python",
   "name": "python",
   "nbconvert_exporter": "python",
   "pygments_lexer": "ipython2",
   "version": "2.7.13"
  }
 },
 "nbformat": 4,
 "nbformat_minor": 0
}
